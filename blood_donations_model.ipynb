{
 "cells": [
  {
   "cell_type": "markdown",
   "metadata": {},
   "source": [
    "## 1. RFMTC Model on Blood Donation.\n",
    "<p><img src=\"blood_donation.png\" style=\"float: right;\" alt=\"A pictogram of a blood bag with blood donation written in it\" width=\"200\"></p>\n",
    "<p>The original problem is about a bus collecting blood donations in a single institution (a university). Working with 748 donor data points, the researchers were able to build a RFMTC model that predicted wether or not a individual would donate blood on the next visit to the university with 0.79% accuracy.</p>\n",
    "<p>DataCamp used the case above to develop a project exercise to it's students. The project begins with some data exploratory analysis and ends with the model building.  \n",
    "</p>\n",
    "<p>\n",
    "The repository at hand continues that project by providing an API to be consumed on other applications. This API is hosted on my local machine, but the next step is to host it on cloud or other Linux machines.  \n",
    "</p>"
   ]
  },
  {
   "cell_type": "code",
   "execution_count": 1,
   "metadata": {},
   "outputs": [],
   "source": [
    "# Imports\n",
    "import pandas as pd\n",
    "from sklearn.model_selection import train_test_split\n",
    "from tpot import TPOTClassifier\n",
    "from sklearn.metrics import roc_auc_score\n",
    "import numpy as np\n",
    "from sklearn import linear_model\n",
    "import matplotlib.pyplot as plt\n"
   ]
  },
  {
   "cell_type": "code",
   "execution_count": 2,
   "metadata": {},
   "outputs": [],
   "source": [
    "# Read in dataset\n",
    "transfusion = pd.read_csv('datasets/transfusion.data')\n",
    "\n",
    "# Rename target column as 'target' for brevity \n",
    "transfusion.rename(\n",
    "    columns={'whether he/she donated blood in March 2007': \"target\"},\n",
    "    inplace=True\n",
    ")"
   ]
  },
  {
   "cell_type": "markdown",
   "execution_count": null,
   "metadata": {},
   "outputs": [],
   "source": [
    "### The Data set is split into train set and test set. The first teaches the machine patterns it needs to learn, and the second evaluates the model's performance. The stratify parameter indicates that the test set has the same proportions as the train set. "
   ]
  },
  {
   "cell_type": "code",
   "execution_count": 3,
   "metadata": {},
   "outputs": [],
   "source": [
    "# Split transfusion DataFrame into\n",
    "# X_train, X_test, y_train and y_test datasets,\n",
    "# stratifying on the `target` column\n",
    "X_train, X_test, y_train, y_test = train_test_split(\n",
    "    transfusion.drop(columns='target'),\n",
    "    transfusion.target,\n",
    "    test_size=0.25,\n",
    "    random_state=42,\n",
    "    stratify=transfusion.target\n",
    ")"
   ]
  },
  {
   "cell_type": "markdown",
   "execution_count": null,
   "metadata": {},
   "outputs": [],
   "source": [
    "### The Monetary Blood feature/column has a much higher variance than other features, so it needs to be normalized. The normalization technique chosen was log normalization."
   ]
  },
  {
   "cell_type": "code",
   "execution_count": 4,
   "metadata": {},
   "outputs": [],
   "source": [
    "# Copy X_train and X_test into X_train_normed and X_test_normed\n",
    "X_train_normed, X_test_normed = X_train.copy(), X_test.copy()\n",
    "\n",
    "# Specify which column to normalize\n",
    "col_to_normalize = 'Monetary (c.c. blood)'\n",
    "\n",
    "# Log normalization\n",
    "for df_ in [X_train_normed, X_test_normed]:\n",
    "    # Add log normalized column\n",
    "    df_['monetary_log'] = np.log(df_[col_to_normalize])\n",
    "    # Drop the original column\n",
    "    df_.drop(columns=col_to_normalize, inplace=True)\n"
   ]
  },
  {
   "cell_type": "markdown",
   "execution_count": null,
   "metadata": {},
   "outputs": [],
   "source": [
    "### TPOT's analysis indicated that Logistic Regression is the best model to work with this dataset."
   ]
  },
  {
   "cell_type": "code",
   "execution_count": 5,
   "metadata": {},
   "outputs": [
    {
     "name": "stdout",
     "output_type": "stream",
     "text": "\nAUC score: 0.7891\n"
    }
   ],
   "source": [
    "# Instantiate LogisticRegression\n",
    "logreg = linear_model.LogisticRegression(\n",
    "    solver='liblinear',\n",
    "    random_state=42\n",
    ")\n",
    "\n",
    "# Train the model\n",
    "logreg.fit(X_train_normed, y_train)\n",
    "\n",
    "# AUC score for tpot model\n",
    "logreg_auc_score = roc_auc_score(y_test, logreg.predict_proba(X_test_normed)[:, 1])\n",
    "print(f'\\nAUC score: {logreg_auc_score:.4f}')"
   ]
  },
  {
   "cell_type": "code",
   "execution_count": 6,
   "metadata": {},
   "outputs": [
    {
     "data": {
      "text/html": "<div>\n<style scoped>\n    .dataframe tbody tr th:only-of-type {\n        vertical-align: middle;\n    }\n\n    .dataframe tbody tr th {\n        vertical-align: top;\n    }\n\n    .dataframe thead th {\n        text-align: right;\n    }\n</style>\n<table border=\"1\" class=\"dataframe\">\n  <thead>\n    <tr style=\"text-align: right;\">\n      <th></th>\n      <th>Valores Reais</th>\n      <th>Probabilidade da Predição</th>\n      <th>Predições</th>\n    </tr>\n  </thead>\n  <tbody>\n    <tr>\n      <th>41</th>\n      <td>0</td>\n      <td>0.452876</td>\n      <td>0</td>\n    </tr>\n    <tr>\n      <th>682</th>\n      <td>0</td>\n      <td>0.142197</td>\n      <td>0</td>\n    </tr>\n    <tr>\n      <th>532</th>\n      <td>0</td>\n      <td>0.434499</td>\n      <td>0</td>\n    </tr>\n    <tr>\n      <th>538</th>\n      <td>1</td>\n      <td>0.414502</td>\n      <td>0</td>\n    </tr>\n    <tr>\n      <th>153</th>\n      <td>1</td>\n      <td>0.339023</td>\n      <td>0</td>\n    </tr>\n  </tbody>\n</table>\n</div>",
      "text/plain": "     Valores Reais  Probabilidade da Predição  Predições\n41               0                   0.452876          0\n682              0                   0.142197          0\n532              0                   0.434499          0\n538              1                   0.414502          0\n153              1                   0.339023          0"
     },
     "execution_count": 6,
     "metadata": {},
     "output_type": "execute_result"
    }
   ],
   "source": [
    "# Verifying the predictions, it's probabilities and the actual data points.\n",
    "y_pred_proba =logreg.predict_proba(X_test_normed)[:,1]\n",
    "\n",
    "y_pred = logreg.predict(X_test_normed)\n",
    "\n",
    "dic = {\"index\":y_test.index,\"Valores Reais\":y_test,\"Probabilidade da Predição\":y_pred_proba, \"Predições\":y_pred}\n",
    "df_pred = pd.DataFrame(dic)\n",
    "df_pred.set_index(\"index\")\n",
    "df_pred.drop(\"index\", axis=1).head()"
   ]
  },
  {
   "cell_type": "code",
   "execution_count": 7,
   "metadata": {},
   "outputs": [
    {
     "data": {
      "text/html": "<div>\n<style scoped>\n    .dataframe tbody tr th:only-of-type {\n        vertical-align: middle;\n    }\n\n    .dataframe tbody tr th {\n        vertical-align: top;\n    }\n\n    .dataframe thead th {\n        text-align: right;\n    }\n</style>\n<table border=\"1\" class=\"dataframe\">\n  <thead>\n    <tr style=\"text-align: right;\">\n      <th></th>\n      <th>Recency (months)</th>\n      <th>Frequency (times)</th>\n      <th>Time (months)</th>\n      <th>monetary_log</th>\n      <th>target</th>\n    </tr>\n  </thead>\n  <tbody>\n    <tr>\n      <th>41</th>\n      <td>2</td>\n      <td>5</td>\n      <td>16</td>\n      <td>7.130899</td>\n      <td>0</td>\n    </tr>\n    <tr>\n      <th>682</th>\n      <td>11</td>\n      <td>2</td>\n      <td>25</td>\n      <td>6.214608</td>\n      <td>0</td>\n    </tr>\n    <tr>\n      <th>532</th>\n      <td>4</td>\n      <td>8</td>\n      <td>28</td>\n      <td>7.600902</td>\n      <td>0</td>\n    </tr>\n    <tr>\n      <th>538</th>\n      <td>2</td>\n      <td>8</td>\n      <td>38</td>\n      <td>7.600902</td>\n      <td>1</td>\n    </tr>\n    <tr>\n      <th>153</th>\n      <td>2</td>\n      <td>1</td>\n      <td>2</td>\n      <td>5.521461</td>\n      <td>1</td>\n    </tr>\n  </tbody>\n</table>\n</div>",
      "text/plain": "     Recency (months)  Frequency (times)  Time (months)  monetary_log  target\n41                  2                  5             16      7.130899       0\n682                11                  2             25      6.214608       0\n532                 4                  8             28      7.600902       0\n538                 2                  8             38      7.600902       1\n153                 2                  1              2      5.521461       1"
     },
     "execution_count": 7,
     "metadata": {},
     "output_type": "execute_result"
    }
   ],
   "source": [
    "# Verifying data points trained by the model.\n",
    "df_explorador = X_test_normed\n",
    "df_explorador['target'] = y_test\n",
    "df_explorador.head(5)"
   ]
  },
  {
   "cell_type": "code",
   "execution_count": 8,
   "metadata": {},
   "outputs": [
    {
     "name": "stdout",
     "output_type": "stream",
     "text": "[1]\n"
    }
   ],
   "source": [
    "# Testing a single arbitrary individual.\n",
    "registro_unico = np.array([2, 15, 30, 90.134544]).reshape(1,-1) # Entrada\n",
    "previsao_registro_unico = logreg.predict(registro_unico) # Previsão\n",
    "print(previsao_registro_unico) # Saída"
   ]
  },
  {
   "cell_type": "code",
   "execution_count": 9,
   "metadata": {},
   "outputs": [],
   "source": [
    "# Exporting the model to be used in the API.\n",
    "import pickle\n",
    "pickle.dump(logreg, open('modelo_logreg.pickle', 'wb'))"
   ]
  }
 ],
 "metadata": {
  "kernelspec": {
   "display_name": "Python 3",
   "language": "python",
   "name": "python3"
  },
  "language_info": {
   "codemirror_mode": {
    "name": "ipython",
    "version": 3
   },
   "file_extension": ".py",
   "mimetype": "text/x-python",
   "name": "python",
   "nbconvert_exporter": "python",
   "pygments_lexer": "ipython3",
   "version": "3.7.3"
  }
 },
 "nbformat": 4,
 "nbformat_minor": 2
}